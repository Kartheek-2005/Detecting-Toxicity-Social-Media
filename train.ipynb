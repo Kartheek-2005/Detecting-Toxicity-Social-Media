{
 "cells": [
  {
   "cell_type": "markdown",
   "metadata": {},
   "source": [
    "# Train a Model from Hugging Face"
   ]
  },
  {
   "cell_type": "markdown",
   "metadata": {},
   "source": [
    "## Install and Import Dependencies"
   ]
  },
  {
   "cell_type": "code",
   "execution_count": 9,
   "metadata": {},
   "outputs": [],
   "source": [
    "from warnings import filterwarnings\n",
    "\n",
    "import pandas as pd\n",
    "from torch.optim import AdamW\n",
    "from torch.optim.lr_scheduler import ReduceLROnPlateau\n",
    "from transformers import AutoTokenizer, AutoModelForSequenceClassification\n",
    "\n",
    "from configs import (\n",
    "  TOXIC_DB_PATH, BENIGN_DB_PATH, PROMPT_TEMPLATE, EPOCHS, BATCH_SIZE,\n",
    "  LEARNING_RATE, FACTOR, PATIENCE, THRESHOLD\n",
    ")\n",
    "from utils import DatabaseInterface, Trainer, get_device\n",
    "\n",
    "filterwarnings(\"ignore\")"
   ]
  },
  {
   "cell_type": "markdown",
   "metadata": {},
   "source": [
    "## Initialize Database Interfaces"
   ]
  },
  {
   "cell_type": "code",
   "execution_count": 4,
   "metadata": {},
   "outputs": [],
   "source": [
    "toxic_db = DatabaseInterface(n_neighbors=2, data_path=TOXIC_DB_PATH)\n",
    "benign_db = DatabaseInterface(n_neighbors=2, data_path=BENIGN_DB_PATH)"
   ]
  },
  {
   "cell_type": "markdown",
   "metadata": {},
   "source": [
    "## Import Model and Tokenizer from Hugging Face"
   ]
  },
  {
   "cell_type": "code",
   "execution_count": 5,
   "metadata": {},
   "outputs": [
    {
     "name": "stderr",
     "output_type": "stream",
     "text": [
      "Some weights of the model checkpoint at s-nlp/roberta_toxicity_classifier were not used when initializing RobertaForSequenceClassification: ['roberta.pooler.dense.bias', 'roberta.pooler.dense.weight']\n",
      "- This IS expected if you are initializing RobertaForSequenceClassification from the checkpoint of a model trained on another task or with another architecture (e.g. initializing a BertForSequenceClassification model from a BertForPreTraining model).\n",
      "- This IS NOT expected if you are initializing RobertaForSequenceClassification from the checkpoint of a model that you expect to be exactly identical (initializing a BertForSequenceClassification model from a BertForSequenceClassification model).\n"
     ]
    }
   ],
   "source": [
    "# Hugging Face checkpoint or local path to the model and tokenizer\n",
    "checkpoint = \"s-nlp/roberta_toxicity_classifier\"\n",
    "\n",
    "tokenizer = AutoTokenizer.from_pretrained(checkpoint)\n",
    "model = AutoModelForSequenceClassification.from_pretrained(checkpoint)"
   ]
  },
  {
   "cell_type": "markdown",
   "metadata": {},
   "source": [
    "## Initialize Optimizer and Scheduler"
   ]
  },
  {
   "cell_type": "code",
   "execution_count": 6,
   "metadata": {},
   "outputs": [],
   "source": [
    "optimizer = AdamW(\n",
    "  model.parameters(),\n",
    "  lr=LEARNING_RATE\n",
    ")\n",
    "scheduler = ReduceLROnPlateau(\n",
    "  optimizer,\n",
    "  mode=\"min\",\n",
    "  factor=FACTOR,\n",
    "  patience=PATIENCE,\n",
    "  threshold=THRESHOLD,\n",
    ")"
   ]
  },
  {
   "cell_type": "markdown",
   "metadata": {},
   "source": [
    "## Load Data"
   ]
  },
  {
   "cell_type": "code",
   "execution_count": 7,
   "metadata": {},
   "outputs": [
    {
     "data": {
      "text/html": [
       "<div>\n",
       "<style scoped>\n",
       "    .dataframe tbody tr th:only-of-type {\n",
       "        vertical-align: middle;\n",
       "    }\n",
       "\n",
       "    .dataframe tbody tr th {\n",
       "        vertical-align: top;\n",
       "    }\n",
       "\n",
       "    .dataframe thead th {\n",
       "        text-align: right;\n",
       "    }\n",
       "</style>\n",
       "<table border=\"1\" class=\"dataframe\">\n",
       "  <thead>\n",
       "    <tr style=\"text-align: right;\">\n",
       "      <th></th>\n",
       "      <th>text</th>\n",
       "      <th>label</th>\n",
       "    </tr>\n",
       "  </thead>\n",
       "  <tbody>\n",
       "    <tr>\n",
       "      <th>8955</th>\n",
       "      <td>we are racist because we put them in their pla...</td>\n",
       "      <td>1.000000</td>\n",
       "    </tr>\n",
       "    <tr>\n",
       "      <th>8956</th>\n",
       "      <td>in order to work with mexican rebels, i think ...</td>\n",
       "      <td>0.466667</td>\n",
       "    </tr>\n",
       "    <tr>\n",
       "      <th>8957</th>\n",
       "      <td>I'd like to thank you.. I don't think I'd have...</td>\n",
       "      <td>0.200000</td>\n",
       "    </tr>\n",
       "    <tr>\n",
       "      <th>8958</th>\n",
       "      <td>have you had your medication?</td>\n",
       "      <td>0.466667</td>\n",
       "    </tr>\n",
       "    <tr>\n",
       "      <th>8959</th>\n",
       "      <td>we are the ones who came to this country and m...</td>\n",
       "      <td>0.466667</td>\n",
       "    </tr>\n",
       "  </tbody>\n",
       "</table>\n",
       "</div>"
      ],
      "text/plain": [
       "                                                   text     label\n",
       "8955  we are racist because we put them in their pla...  1.000000\n",
       "8956  in order to work with mexican rebels, i think ...  0.466667\n",
       "8957  I'd like to thank you.. I don't think I'd have...  0.200000\n",
       "8958                      have you had your medication?  0.466667\n",
       "8959  we are the ones who came to this country and m...  0.466667"
      ]
     },
     "execution_count": 7,
     "metadata": {},
     "output_type": "execute_result"
    }
   ],
   "source": [
    "# Path to the csv file\n",
    "data_path = \"/Users/naman/Workspace/Data/Toxic-Content/toxigen-data/processed.csv\"\n",
    "\n",
    "df = pd.read_csv(data_path)\n",
    "df.tail()"
   ]
  },
  {
   "cell_type": "code",
   "execution_count": null,
   "metadata": {},
   "outputs": [
    {
     "data": {
      "text/plain": [
       "(['we are racist because we put them in their place!\\n- that is why we need to make them pay and take their jobs',\n",
       "  'in order to work with mexican rebels, i think you will need to work on your spanish or ask your friend to help you\\\\n',\n",
       "  \"I'd like to thank you.. I don't think I'd have made it if I didn't find MGTOW! You guys are great!\",\n",
       "  'have you had your medication?',\n",
       "  'we are the ones who came to this country and made it our home. we didnt come begging for a hand out and we sure didnt come here just'],\n",
       " [1, 0, 0, 0, 0])"
      ]
     },
     "execution_count": 8,
     "metadata": {},
     "output_type": "execute_result"
    }
   ],
   "source": [
    "threhshold = .3\n",
    "texts, labels = df[\"text\"].tolist(), df[\"label\"].map(lambda x: 1 if x > threhshold else 0).tolist()\n",
    "texts[-5:], labels[-5:]"
   ]
  },
  {
   "cell_type": "markdown",
   "metadata": {},
   "source": [
    "### Train-Test Split"
   ]
  },
  {
   "cell_type": "code",
   "execution_count": 12,
   "metadata": {},
   "outputs": [],
   "source": [
    "split_ind = int(len(texts) * .8)\n",
    "train_texts, train_labels = texts[:split_ind], labels[:split_ind]\n",
    "test_texts, test_labels = texts[split_ind:], labels[split_ind:]"
   ]
  },
  {
   "cell_type": "markdown",
   "metadata": {},
   "source": [
    "## Initalize Trainer"
   ]
  },
  {
   "cell_type": "code",
   "execution_count": 10,
   "metadata": {},
   "outputs": [],
   "source": [
    "trainer = Trainer(\n",
    "  model=model,\n",
    "  tokenizer=tokenizer,\n",
    "  optimizer=optimizer,\n",
    "  scheduler=scheduler,\n",
    "  toxic_db=toxic_db,\n",
    "  benign_db=benign_db,\n",
    "  prompt_template=PROMPT_TEMPLATE\n",
    ")"
   ]
  },
  {
   "cell_type": "markdown",
   "metadata": {},
   "source": [
    "## Get Device and Train"
   ]
  },
  {
   "cell_type": "code",
   "execution_count": null,
   "metadata": {},
   "outputs": [],
   "source": [
    "device = get_device()\n",
    "print(f\"Using {device} device\")\n",
    "\n",
    "trainer.train(\n",
    "  texts=train_texts,\n",
    "  labels=train_labels,\n",
    "  batch_size=BATCH_SIZE,\n",
    "  epochs=EPOCHS,\n",
    "  device=device\n",
    ")"
   ]
  },
  {
   "cell_type": "markdown",
   "metadata": {},
   "source": [
    "## Save Trained Model and Tokenizer"
   ]
  },
  {
   "cell_type": "code",
   "execution_count": 10,
   "metadata": {},
   "outputs": [
    {
     "data": {
      "text/plain": [
       "('/Users/naman/Workspace/models-tokenizers/toxic-classifiers/roberta-toxigen/tokenizer_config.json',\n",
       " '/Users/naman/Workspace/models-tokenizers/toxic-classifiers/roberta-toxigen/special_tokens_map.json',\n",
       " '/Users/naman/Workspace/models-tokenizers/toxic-classifiers/roberta-toxigen/vocab.json',\n",
       " '/Users/naman/Workspace/models-tokenizers/toxic-classifiers/roberta-toxigen/merges.txt',\n",
       " '/Users/naman/Workspace/models-tokenizers/toxic-classifiers/roberta-toxigen/added_tokens.json',\n",
       " '/Users/naman/Workspace/models-tokenizers/toxic-classifiers/roberta-toxigen/tokenizer.json')"
      ]
     },
     "execution_count": 10,
     "metadata": {},
     "output_type": "execute_result"
    }
   ],
   "source": [
    "save_path = \"/Users/naman/Workspace/models-tokenizers/toxicity-classifiers/roberta-toxigen\"\n",
    "model.save_pretrained(save_path)\n",
    "tokenizer.save_pretrained(save_path)"
   ]
  }
 ],
 "metadata": {
  "kernelspec": {
   "display_name": "toxic-content",
   "language": "python",
   "name": "python3"
  },
  "language_info": {
   "codemirror_mode": {
    "name": "ipython",
    "version": 3
   },
   "file_extension": ".py",
   "mimetype": "text/x-python",
   "name": "python",
   "nbconvert_exporter": "python",
   "pygments_lexer": "ipython3",
   "version": "3.12.2"
  }
 },
 "nbformat": 4,
 "nbformat_minor": 2
}
