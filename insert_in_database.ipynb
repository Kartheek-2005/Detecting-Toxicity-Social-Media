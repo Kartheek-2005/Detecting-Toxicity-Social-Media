{
 "cells": [
  {
   "cell_type": "code",
   "execution_count": null,
   "metadata": {},
   "outputs": [],
   "source": [
    "from utils import Database\n",
    "import pickle"
   ]
  },
  {
   "cell_type": "code",
   "execution_count": null,
   "metadata": {},
   "outputs": [],
   "source": [
    "non_toxic_texts = pickle.load(open('data_for_Approach_2/non_toxic_samples.pkl', 'rb'))\n",
    "db = Database(cache_path='data_for_Approach_2/non_toxic_database.pkl')\n",
    "db.insert(non_toxic_texts)"
   ]
  },
  {
   "cell_type": "code",
   "execution_count": null,
   "metadata": {},
   "outputs": [],
   "source": [
    "toxic_texts = pickle.load(open('data_for_Approach_2/toxic_samples.pkl', 'rb'))\n",
    "db = Database(cache_path='data_for_Approach_2/toxic_database.pkl')\n",
    "db.insert(toxic_texts)"
   ]
  }
 ],
 "metadata": {
  "kernelspec": {
   "display_name": ".venv",
   "language": "python",
   "name": "python3"
  },
  "language_info": {
   "codemirror_mode": {
    "name": "ipython",
    "version": 3
   },
   "file_extension": ".py",
   "mimetype": "text/x-python",
   "name": "python",
   "nbconvert_exporter": "python",
   "pygments_lexer": "ipython3",
   "version": "3.12.7"
  }
 },
 "nbformat": 4,
 "nbformat_minor": 2
}
