{
 "cells": [
  {
   "cell_type": "code",
   "execution_count": null,
   "metadata": {},
   "outputs": [],
   "source": [
    "from utils import Database\n",
    "import pickle"
   ]
  },
  {
   "cell_type": "code",
   "execution_count": null,
   "metadata": {},
   "outputs": [],
   "source": [
    "non_toxic_texts = pickle.load(open('data_for_Approach_2/non_toxic_samples.pkl', 'rb'))\n",
    "db = Database(cache_path='data_for_Approach_2/non_toxic_database.pkl')\n",
    "db.insert(non_toxic_texts)"
   ]
  },
  {
   "cell_type": "code",
   "execution_count": null,
   "metadata": {},
   "outputs": [],
   "source": [
    "toxic_texts = pickle.load(open('data_for_Approach_2/toxic_samples.pkl', 'rb'))\n",
    "db = Database(cache_path='data_for_Approach_2/toxic_database.pkl')\n",
    "db.insert(toxic_texts)"
   ]
  },
  {
   "cell_type": "markdown",
   "metadata": {},
   "source": [
    "<p>Honorable mentions\n",
    "</p>\n",
    "\n",
    "\"I’ll shove a fucking knife down your throat, you cock-sucking piece of shit.\"\n",
    "\"I’ll set your pussy on fire just to shut your loud ass up.\"\n",
    "\"Why don’t you choke on a dick and die, you useless motherfucker?\"\n",
    "\"I’ll rip your balls off and shove them down your goddamn throat.\"\n",
    "\"Nobody cares about your opinion, pussy-ass bitch.\"\n",
    "\"I’ll burn your fucking cock to ashes if you don’t shut up.\"\n",
    "\"Get the fuck out of here, you stupid-ass nigga.\"\n",
    "\"I’ll make sure you regret every word that comes out of your shitty pussy mouth.\"\n",
    "\"You’re nothing but a cock-eating piece of trash.\"\n",
    "\"I hope you fucking choke on a pussy, you pathetic loser.\"\n",
    "\"Your cock is probably as useless as your brain.\"\n",
    "\"I’ll carve my name into your balls so you never forget me.\"\n",
    "\"Why don’t you go cry into your fucking pussy, you weak-ass bitch?\"\n",
    "\"I’ll shove a hot rod up your ass and watch you scream, you pussy fuck.\"\n",
    "\"Your pussy-ass excuses are as pathetic as your entire existence.\"\n",
    "\"I’ll crush your cock with a hammer, you stupid motherfucker.\"\n",
    "\"Shut your fucking nigga mouth before I break your jaw.\"\n",
    "\"Your cock probably shrivels up every time you talk, you bitch-ass loser.\"\n",
    "\"I’ll make you eat your own balls, you worthless nigga.\"\n",
    "\"Your pussy stinks worse than your shitty personality.\"\n",
    "\"I’ll set your cock on fire and piss on the ashes.\"\n",
    "\"You think anyone gives a fuck about your nigga-ass bullshit?\"\n",
    "\"I’ll shove my boot so far up your pussy you’ll taste leather.\"\n",
    "\"Nobody wants to hear your cock-sucking voice anymore.\"\n",
    "\"I’ll beat your pussy-ass into the ground until you’re begging to stop.\"\n",
    "\"Shut your dick-sucking mouth before I shut it for you.\"\n",
    "\"Your pussy-ass behavior is why nobody fucking likes you.\"\n",
    "\"I’ll cut your balls off and mail them to your family.\"\n",
    "\"You’re the kind of nigga that makes everyone’s life worse.\"\n",
    "\"Your cock is probably as flaccid as your fucking excuses.\"\n",
    "\"I’ll make sure you never use your pussy-ass legs again.\"\n",
    "\"Your dick is about as worthless as your opinions.\"\n",
    "\"I’ll shove your cock so far down your throat you’ll suffocate.\"\n",
    "\"Stop acting like you’re tough; everyone knows you’re just a pussy.\"\n",
    "\"I’ll burn your nigga ass to the ground if you keep talking.\"\n",
    "\"Nobody wants to deal with your pussy-ass whining anymore.\"\n",
    "\"I’ll fucking nail your cock to a board and leave you there.\"\n",
    "\"Your nigga-ass attitude is the reason nobody fucking respects you.\"\n",
    "\"I’ll make sure your pussy-ass regrets ever crossing me.\"\n",
    "\"Why don’t you shut the fuck up and go suck some cock?\"\n",
    "\"You’re nothing but a pussy-ass waste of space.\"\n",
    "\"I’ll break your fucking jaw and laugh while you cry, you dickless piece of shit.\"\n",
    "\"Your cock probably falls off every time you open your dumbass mouth.\"\n",
    "\"I’ll tear your pussy apart just to prove a point.\"\n",
    "\"Nobody fucking likes a cock-sucking loser like you.\"\n",
    "\"You’re the reason niggas like me don’t trust anyone anymore.\"\n",
    "\"I’ll slap the pussy off your face and make you fucking beg.\"\n",
    "\"Shut the fuck up before I shove my fist down your throat.\"\n",
    "\"You’re the most pathetic pussy I’ve ever fucking met.\"\n",
    "\"I’ll light your dick on fire and watch you fucking scream.\""
   ]
  }
 ],
 "metadata": {
  "kernelspec": {
   "display_name": ".venv",
   "language": "python",
   "name": "python3"
  },
  "language_info": {
   "codemirror_mode": {
    "name": "ipython",
    "version": 3
   },
   "file_extension": ".py",
   "mimetype": "text/x-python",
   "name": "python",
   "nbconvert_exporter": "python",
   "pygments_lexer": "ipython3",
   "version": "3.12.7"
  }
 },
 "nbformat": 4,
 "nbformat_minor": 2
}
